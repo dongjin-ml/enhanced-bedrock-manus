{
 "cells": [
  {
   "cell_type": "code",
   "execution_count": null,
   "id": "8daa2248-2979-43f7-a945-85784fb716a0",
   "metadata": {
    "tags": []
   },
   "outputs": [],
   "source": [
    "%load_ext autoreload\n",
    "%autoreload 2"
   ]
  },
  {
   "cell_type": "code",
   "execution_count": null,
   "id": "def70031",
   "metadata": {},
   "outputs": [],
   "source": [
    "%%writefile .env\n",
    "\n",
    "# TAVILY_API_KEY = your_key\n",
    "# JINA_API_KEY = your_key\n",
    "# CHROME_INSTANCE_PATH = /Applications/Google Chrome.app/Contents/MacOS/Google Chrome\n",
    "# BROWSER_HEADLESS=False\n",
    "TAVILY_API_KEY = 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\n",
    "\n",
    "\n"
   ]
  },
  {
   "cell_type": "code",
   "execution_count": null,
   "id": "12c20d61",
   "metadata": {},
   "outputs": [],
   "source": [
    "import sys\n",
    "from src.workflow import run_agent_workflow"
   ]
  },
  {
   "cell_type": "code",
   "execution_count": null,
   "id": "8e915a3c-bb0d-4d3d-88cf-bfa0b61e8f9f",
   "metadata": {
    "tags": []
   },
   "outputs": [],
   "source": [
    "user_query = '''\n",
    "    LG 스타일러의 중국 판매 방안에 대해서 알려줘. 아주 간략하게 작성해줘. 결과는 pdf로 만들어줘\n",
    "'''\n",
    "#Transformer 알고리즘과 현 시점에서 어떤식으로 변화 발전 하는지 알려줘\n",
    "#LG 스타일러의 중국 판매 방안에 대해서 알려줘\n",
    "#5-7세 아동을 위한 미술학원(홈스쿨)을 운영예정이야. 나는 미술치료와 심리학을 전공했어. 이런 전문성을 접목한 브랜딩, 마케팅 방법, 운영방안, 구체적인 프로그램(월별)을 기획해줘. 그리고 브랜드 이름도 추천해줘."
   ]
  },
  {
   "cell_type": "code",
   "execution_count": 5,
   "id": "1bf1bef5",
   "metadata": {},
   "outputs": [
    {
     "name": "stdout",
     "output_type": "stream",
     "text": [
      "\n",
      "\n",
      "I have completed the analysis and created a PDF report for the LG Styler China market strategy. The report includes:\n",
      "\n",
      "1. Market Analysis:\n",
      "   - Analysis of market potential across major Chinese cities (Tier 1 and New Tier 1)\n",
      "   -"
     ]
    }
   ],
   "source": [
    "import os\n",
    "import shutil\n",
    "\n",
    "def remove_artifact_folder(folder_path=\"./artifacts/\"):\n",
    "    \"\"\"\n",
    "    ./artifact/ 폴더가 존재하면 삭제하는 함수\n",
    "    \n",
    "    Args:\n",
    "        folder_path (str): 삭제할 폴더 경로\n",
    "    \"\"\"\n",
    "    if os.path.exists(folder_path):\n",
    "        print(f\"'{folder_path}' 폴더를 삭제합니다...\")\n",
    "        try:\n",
    "            # 폴더와 그 내용을 모두 삭제\n",
    "            shutil.rmtree(folder_path)\n",
    "            print(f\"'{folder_path}' 폴더가 성공적으로 삭제되었습니다.\")\n",
    "        except Exception as e:\n",
    "            print(f\"오류 발생: {e}\")\n",
    "    else:\n",
    "        print(f\"'{folder_path}' 폴더가 존재하지 않습니다.\")\n",
    "\n",
    "\n",
    "#import nest_asyncio\n",
    "#nest_asyncio.apply()\n",
    "\n",
    "remove_artifact_folder()\n",
    "\n",
    "result = run_agent_workflow(\n",
    "    user_input=user_query,\n",
    "    debug=False\n",
    ")\n",
    "\n",
    "# Print the conversation history\n",
    "print(\"\\n=== Conversation History ===\")\n",
    "print (\"result\", result)\n",
    "for history in result[\"history\"]:\n",
    "\n",
    "    print (\"===\")\n",
    "    print (f'agent: {history[\"agent\"]}')\n",
    "    print (f'message: {history[\"message\"]}')"
   ]
  },
  {
   "cell_type": "code",
   "execution_count": null,
   "id": "4e4a3c61",
   "metadata": {},
   "outputs": [],
   "source": [
    "res = {'TEAM_MEMBERS': ['researcher', 'coder', 'browser', 'reporter'],\n",
    "'deep_thinking_mode': True, 'search_before_planning': False, \n",
    "'messages': [{'role': 'user', 'content': [{'text': 'Response from clarifier:\\n\\n<response>\\n\\n\\n{\"questions\": [\\n    \"1. 트랜스포머 모델의 어떤 특정 응용 분야에 가장 관심이 있으신가요? (예: 자연어처리, 컴퓨터 비전, 음성인식 등)\",\\n    \"2. 최근 개발된 효율적인 어텐션 메커니즘 중 특별히 더 자세히 알고 싶은 부분이 있으신가요? (Linear Attention, Flash Attention, Grouped Query Attention 등)\",\\n    \"3. 트랜스포머 모델의 실제 구현이나 학습에 관심이 있으신가요, 아니면 이론적인 이해에 더 중점을 두고 계신가요?\",\\n    \"4. 모델의 크기와 계산 효율성 측면에서 특별히 고려하고 계신 제약사항이 있으신가요?\"\\n]}\\n</response>\\n\\n*Please execute the next step.*'}]}], 'messages_name': 'researcher', 'history': [{'agent': 'clarifier', 'message': '\\n\\n{\"questions\": [\\n    \"1. 트랜스포머 모델의 어떤 특정 응용 분야에 가장 관심이 있으신가요? (예: 자연어처리, 컴퓨터 비전, 음성인식 등)\",\\n    \"2. 최근 개발된 효율적인 어텐션 메커니즘 중 특별히 더 자세히 알고 싶은 부분이 있으신가요? (Linear Attention, Flash Attention, Grouped Query Attention 등)\",\\n    \"3. 트랜스포머 모델의 실제 구현이나 학습에 관심이 있으신가요, 아니면 이론적인 이해에 더 중점을 두고 계신가요?\",\\n    \"4. 모델의 크기와 계산 효율성 측면에서 특별히 고려하고 계신 제약사항이 있으신가요?\"\\n]}'}], 'clues': '\\n\\nHere is clues form clarifier:\\n\\n<clues>\\n\\n\\n{\"questions\": [\\n    \"1. 트랜스포머 모델의 어떤 특정 응용 분야에 가장 관심이 있으신가요? (예: 자연어처리, 컴퓨터 비전, 음성인식 등)\",\\n    \"2. 최근 개발된 효율적인 어텐션 메커니즘 중 특별히 더 자세히 알고 싶은 부분이 있으신가요? (Linear Attention, Flash Attention, Grouped Query Attention 등)\",\\n    \"3. 트랜스포머 모델의 실제 구현이나 학습에 관심이 있으신가요, 아니면 이론적인 이해에 더 중점을 두고 계신가요?\",\\n    \"4. 모델의 크기와 계산 효율성 측면에서 특별히 고려하고 계신 제약사항이 있으신가요?\"\\n]}\\n</clues>\\n\\n', 'request': '\\n    Transformer 알고리즘과 현 시점에서 어떤식으로 변화 발전 하는지 알려줘\\n'}"
   ]
  },
  {
   "cell_type": "code",
   "execution_count": null,
   "id": "b8e988e0",
   "metadata": {},
   "outputs": [],
   "source": [
    "res.keys()"
   ]
  },
  {
   "cell_type": "code",
   "execution_count": null,
   "id": "f1786afe",
   "metadata": {},
   "outputs": [],
   "source": []
  },
  {
   "cell_type": "code",
   "execution_count": null,
   "id": "9e08ab98",
   "metadata": {},
   "outputs": [],
   "source": []
  },
  {
   "cell_type": "code",
   "execution_count": null,
   "id": "897130ba",
   "metadata": {},
   "outputs": [],
   "source": []
  },
  {
   "cell_type": "code",
   "execution_count": null,
   "id": "3bbba01f",
   "metadata": {},
   "outputs": [],
   "source": []
  },
  {
   "cell_type": "code",
   "execution_count": null,
   "id": "590c0ff1",
   "metadata": {},
   "outputs": [],
   "source": [
    "import json\n",
    "import logging\n",
    "import src.config\n",
    "from langchain_community.tools.tavily_search import TavilySearchResults\n",
    "from src.config import TAVILY_MAX_RESULTS\n",
    "from src.tools.decorators import create_logged_tool\n",
    "logger = logging.getLogger(__name__)"
   ]
  },
  {
   "cell_type": "code",
   "execution_count": null,
   "id": "1be042a7",
   "metadata": {},
   "outputs": [],
   "source": [
    "LoggedTavilySearch = create_logged_tool(TavilySearchResults)\n",
    "tavily_tool = LoggedTavilySearch(name=\"tavily_search\", max_results=TAVILY_MAX_RESULTS)\n",
    "def handle_tavily_tool(query):\n",
    "    '''\n",
    "    Use this tool to search the internet for real-time information, current events, or specific data. Provides relevant search results from Tavily's search engine API.\n",
    "    '''\n",
    "\n",
    "    print (query)\n",
    "\n",
    "    searched_content = tavily_tool.invoke({\"query\": query})\n",
    "    print (searched_content)\n",
    "    results = f\"\\n\\n# Relative Search Results\\n\\n{json.dumps([{'titile': elem['title'], 'content': elem['content']} for elem in searched_content], ensure_ascii=False)}\"\n",
    "    print (f'Search Results: \\n\\n {[{'titile': elem['title'], 'content': elem['content']} for elem in searched_content]}')\n",
    "    return results"
   ]
  },
  {
   "cell_type": "code",
   "execution_count": null,
   "id": "0053d88f",
   "metadata": {},
   "outputs": [],
   "source": [
    "results = handle_tavily_tool(\n",
    "    query=\"korea reranker\"\n",
    ")"
   ]
  },
  {
   "cell_type": "code",
   "execution_count": null,
   "id": "9d676e68",
   "metadata": {},
   "outputs": [],
   "source": [
    "from src.crawler import Crawler\n",
    "# Initialize the crawler\n",
    "crawler = Crawler()"
   ]
  },
  {
   "cell_type": "code",
   "execution_count": null,
   "id": "9f752a6c",
   "metadata": {},
   "outputs": [],
   "source": [
    "url = \"https://blog-ko.superb-ai.com/\"\n",
    "# Crawl the URL\n",
    "article = crawler.crawl(url)\n",
    "article.to_markdown()"
   ]
  },
  {
   "cell_type": "code",
   "execution_count": null,
   "id": "bd92b372",
   "metadata": {},
   "outputs": [],
   "source": [
    "print (article.to_message()[-1][\"text\"])"
   ]
  },
  {
   "cell_type": "code",
   "execution_count": null,
   "id": "6dd98d51",
   "metadata": {},
   "outputs": [],
   "source": [
    "aa = results.split(\"\\n\\n\")"
   ]
  },
  {
   "cell_type": "code",
   "execution_count": null,
   "id": "f655c063",
   "metadata": {},
   "outputs": [],
   "source": [
    "bb = json.loads(aa[2])"
   ]
  },
  {
   "cell_type": "code",
   "execution_count": null,
   "id": "b511b8f3",
   "metadata": {},
   "outputs": [],
   "source": [
    "bb"
   ]
  },
  {
   "cell_type": "code",
   "execution_count": null,
   "id": "92f23afc",
   "metadata": {},
   "outputs": [],
   "source": [
    "print ( bb[1][\"content\"])"
   ]
  },
  {
   "cell_type": "code",
   "execution_count": null,
   "id": "6ac8deea",
   "metadata": {},
   "outputs": [],
   "source": [
    "import sys\n",
    "from .article import Article\n",
    "# Jina 대신 newspaper3k 사용\n",
    "import newspaper\n",
    "from newspaper import Article as NewspaperArticle\n",
    "\n",
    "class Crawler:\n",
    "    def crawl(self, url: str) -> Article:\n",
    "        # newspaper3k를 사용하여 기사 추출\n",
    "        news_article = NewspaperArticle(url, language='ko')  # 한국어 언어 설정\n",
    "        news_article.download()\n",
    "        news_article.parse()\n",
    "        \n",
    "        # Article 객체 생성 및 반환\n",
    "        article = Article()\n",
    "        article.url = url\n",
    "        article.title = news_article.title\n",
    "        article.content = news_article.text\n",
    "        article.author = news_article.authors[0] if news_article.authors else \"\"\n",
    "        article.publish_date = news_article.publish_date\n",
    "        \n",
    "        # 이미지가 있는 경우\n",
    "        if news_article.top_image:\n",
    "            article.images = [news_article.top_image]\n",
    "        \n",
    "        return article\n",
    "\n",
    "if __name__ == \"__main__\":\n",
    "    if len(sys.argv) == 2:\n",
    "        url = sys.argv[1]\n",
    "    else:\n",
    "        url = \"https://fintel.io/zh-hant/s/br/nvdc34\"\n",
    "    crawler = Crawler()\n",
    "    article = crawler.crawl(url)\n",
    "    print(article.to_markdown())"
   ]
  },
  {
   "cell_type": "code",
   "execution_count": null,
   "id": "b06686fe",
   "metadata": {},
   "outputs": [],
   "source": [
    "[코더] 코더 부분에서 리서쳐가 한 파일 읽어서 하기\n",
    "[코더] 레퍼런스 어떻게 표현할 것 인가?\n",
    "[코더, 리포터] 리서처가 조사한 내용으로만 작성할 것인가? \n",
    "[리서처] 크롤러 전체를 다 라이트 하기\n",
    "[리포터] 레퍼런스"
   ]
  }
 ],
 "metadata": {
  "kernelspec": {
   "display_name": "bedrock-manus",
   "language": "python",
   "name": "python3"
  },
  "language_info": {
   "codemirror_mode": {
    "name": "ipython",
    "version": 3
   },
   "file_extension": ".py",
   "mimetype": "text/x-python",
   "name": "python",
   "nbconvert_exporter": "python",
   "pygments_lexer": "ipython3",
   "version": "3.12.9"
  }
 },
 "nbformat": 4,
 "nbformat_minor": 5
}
