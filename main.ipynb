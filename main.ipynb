{
 "cells": [
  {
   "cell_type": "code",
   "execution_count": null,
   "id": "8daa2248-2979-43f7-a945-85784fb716a0",
   "metadata": {
    "tags": []
   },
   "outputs": [],
   "source": [
    "%load_ext autoreload\n",
    "%autoreload 2"
   ]
  },
  {
   "cell_type": "code",
   "execution_count": null,
   "id": "0dfdf8fc-bc59-408c-a4ae-ab80a5aaebdf",
   "metadata": {
    "tags": []
   },
   "outputs": [],
   "source": [
    "import os"
   ]
  },
  {
   "cell_type": "code",
   "execution_count": null,
   "id": "def70031",
   "metadata": {},
   "outputs": [],
   "source": [
    "%%writefile .env\n",
    "\n",
    "TAVILY_API_KEY = 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\n",
    "JINA_API_KEY = jina_759c2be502d84a939ed1f0f668aaa6289u5wP72IzFrFZWi270KNIRwXFOpd\n",
    "CHROME_INSTANCE_PATH = /Applications/Google Chrome.app/Contents/MacOS/Google Chrome\n",
    "BROWSER_HEADLESS=False\n",
    "#DEEPSEEK_API_KEY = \n",
    "#OPENAI_API_KEY = "
   ]
  },
  {
   "cell_type": "code",
   "execution_count": null,
   "id": "3ce003ce-0287-4ae7-99b2-6a35fb2f4398",
   "metadata": {
    "tags": []
   },
   "outputs": [],
   "source": [
    "# 환경변수 사용 예시\n",
    "secret_key = os.environ.get(\"BROWSER_HEADLESS\")\n",
    "print(f\"Secret Key: {secret_key}\")\n",
    "\n",
    "from src.config import CHROME_INSTANCE_PATH, BROWSER_HEADLESS\n",
    "\n",
    "print (\"CHROME_INSTANCE_PATH\", CHROME_INSTANCE_PATH)\n",
    "print (\"BROWSER_HEADLESS\", BROWSER_HEADLESS)"
   ]
  },
  {
   "cell_type": "code",
   "execution_count": null,
   "id": "52844852-fddf-412b-8f2b-38d6b84dd0e2",
   "metadata": {
    "tags": []
   },
   "outputs": [],
   "source": [
    "import sys\n",
    "from src.workflow import run_agent_workflow"
   ]
  },
  {
   "cell_type": "code",
   "execution_count": null,
   "id": "8e915a3c-bb0d-4d3d-88cf-bfa0b61e8f9f",
   "metadata": {
    "tags": []
   },
   "outputs": [],
   "source": [
    "#user_query = \"부산 여행을 위한 계획서를 작성해줘. 맛집 위주로, Browser 사용을 우선시 해줘\"\n",
    "#user_query = '\"./data-pq\" 디렉토리안의 데이터를 기반으로 인사이트 추출을 위한 분석 리포트를 작성해줘. \"./tbl_trend_analysis_desc_20250307.xlsx\" 파일은 데이터에 대한 컬럼 설명이야. 보고서에는 필요하다면 중간과정에서 생성된 차트, 이미지도 함께 넣어서 구성해줘.'\n",
    "#user_query = '4-6세를 위한 미술활동 프로그램을 1월-12월까지 각 월당 프로그램 4개씩 기획해줘. 프로그램별 필요 재료, 예상 비용 및 프로그램에 대한 부모님 브리핑용 문서(5문장 이내)도 만들어줘.'\n",
    "#user_query = \"ko-reranker에 대해 조사하고 pdf 리포트를 작성해줘\"\n",
    "#user_query = \"아트앤하트 상계벽산 교육원에 대한 내용을 조사하고 원장에 대해서도 알려줘\"\n",
    "#user_query = \"지난 한달간 아마존 주식 분석을 해줘.\"\n",
    "user_query = '''\n",
    "    \"./data-pq\" 디렉토리안의 데이터를 기반으로 인사이트 추출을 위한 분석 리포트를 작성해줘.\n",
    "    \"./tbl_trend_analysis_desc_20250307.xlsx\" 파일은 데이터에 대한 컬럼 설명이야.\n",
    "    변수 사이의 관계, 변수 조합을 통한 정보 등 데이터 변형을 통한 인사이트가 필요한 상황이야. 그리고 그 외 다른 방법이 있다면 추가해도 좋아.\n",
    "    보고서에는 중간과정에서 생성된 차트, 이미지도 함께 넣어서 구성해줘.\n",
    "    가용한 TEAM_MEMBER는 \"Coder\", \"Reporter\"만 사용할 수 있어. task_tracker 툴은 skip해줘. 기능 테스트 중이거든\n",
    "    '''\n",
    "#가용한 TEAM_MEMBER는 \"Coder\", \"Reporter\"이고 coder는 1스텝만 적용해줘. task_tracker 단계는 skip해줘. 기능 테스트 중이거든\n",
    "#\n",
    "\n",
    "## Report 에 클루가 있다는것 프롬프트에 반영하기"
   ]
  },
  {
   "cell_type": "code",
   "execution_count": 7,
   "id": "37f6bded",
   "metadata": {},
   "outputs": [],
   "source": [
    "import os\n",
    "import shutil\n",
    "\n",
    "def remove_artifact_folder(folder_path=\"./artifacts/\"):\n",
    "    \"\"\"\n",
    "    ./artifact/ 폴더가 존재하면 삭제하는 함수\n",
    "    \n",
    "    Args:\n",
    "        folder_path (str): 삭제할 폴더 경로\n",
    "    \"\"\"\n",
    "    if os.path.exists(folder_path):\n",
    "        print(f\"'{folder_path}' 폴더를 삭제합니다...\")\n",
    "        try:\n",
    "            # 폴더와 그 내용을 모두 삭제\n",
    "            shutil.rmtree(folder_path)\n",
    "            print(f\"'{folder_path}' 폴더가 성공적으로 삭제되었습니다.\")\n",
    "        except Exception as e:\n",
    "            print(f\"오류 발생: {e}\")\n",
    "    else:\n",
    "        print(f\"'{folder_path}' 폴더가 존재하지 않습니다.\")\n",
    "\n",
    "\n",
    "#import nest_asyncio\n",
    "#nest_asyncio.apply()\n",
    "\n",
    "remove_artifact_folder()\n",
    "\n",
    "result = run_agent_workflow(\n",
    "    user_input=user_query,\n",
    "    debug=True\n",
    ")\n",
    "\n",
    "# Print the conversation history\n",
    "print(\"\\n=== Conversation History ===\")\n",
    "print (\"result\", result)\n",
    "for history in result[\"history\"]:\n",
    "\n",
    "    print (\"===\")\n",
    "    print (f'agent: {history[\"agent\"]}')\n",
    "    print (f'message: {history[\"message\"]}')\n"
   ]
  },
  {
   "cell_type": "code",
   "execution_count": null,
   "id": "82b87cd4",
   "metadata": {},
   "outputs": [],
   "source": [
    "from datetime import datetime\n",
    "template = open(os.path.join(\"./src/prompts/reporter.md\")).read()\n",
    "context = {\"CURRENT_TIME\": datetime.now().strftime(\"%a %b %d %Y %H:%M:%S %z\")}\n",
    "system_prompts = template.format(**context)    "
   ]
  },
  {
   "cell_type": "code",
   "execution_count": null,
   "id": "02d02d26-11c2-4da6-9a00-d8884b540aca",
   "metadata": {},
   "outputs": [],
   "source": [
    "from langchain_community.tools.tavily_search import TavilySearchResults"
   ]
  },
  {
   "cell_type": "code",
   "execution_count": null,
   "id": "b8eba957-ad68-4f59-8abe-038a833e0b26",
   "metadata": {
    "tags": []
   },
   "outputs": [],
   "source": [
    "from src.crawler import Crawler"
   ]
  },
  {
   "cell_type": "code",
   "execution_count": null,
   "id": "66221a32-9480-4af3-977e-a6b4158d6351",
   "metadata": {
    "tags": []
   },
   "outputs": [],
   "source": [
    "crawler = Crawler()\n",
    "        \n"
   ]
  },
  {
   "cell_type": "code",
   "execution_count": null,
   "id": "192c9a0c-2d0a-4b96-9b62-e06173c86950",
   "metadata": {
    "tags": []
   },
   "outputs": [],
   "source": [
    "url = \"https://docs.aws.amazon.com/ko_kr/bedrock/latest/userguide/tool-use-examples.html\"\n",
    "# Crawl the URL\n",
    "article = crawler.crawl(url)"
   ]
  },
  {
   "cell_type": "code",
   "execution_count": null,
   "id": "97f04d04",
   "metadata": {},
   "outputs": [],
   "source": [
    "먼저 matplotlib 설정 파일 위치 확인:\n",
    "\n",
    "> /home/app_user/.local/lib/python3.12/site-packages/matplotlib/mpl-data/matplotlibrc\n",
    "출력된 경로의 matplotlibrc 파일을 수정합니다:\n",
    "$ sudo vi /home/app_user/.local/lib/python3.12/site-packages/matplotlib/mpl-data/matplotlibrc\n",
    "matplotlibrc 파일에서 다음 줄을 찾아 주석 해제하고 수정하거나, 없으면 추가합니다:\n",
    "font.family: sans-serif\n",
    "font.sans-serif: NanumGothic\n",
    "마이너스 기호가 깨지는 것을 방지하기 위해 다음 설정도 추가합니다:\n",
    "axes.unicode_minus: False\n",
    " \n",
    "matplotlib 폰트 캐시 삭제\n",
    "설정 변경 후 matplotlib의 폰트 캐시를 삭제해야 합니다:\n",
    "$ rm -rf ~/.cache/matplotlib/*"
   ]
  },
  {
   "cell_type": "code",
   "execution_count": null,
   "id": "3b868d40",
   "metadata": {},
   "outputs": [],
   "source": [
    "import matplotlib\n",
    "print(matplotlib.matplotlib_fname())"
   ]
  },
  {
   "cell_type": "code",
   "execution_count": null,
   "id": "1097347b",
   "metadata": {},
   "outputs": [],
   "source": [
    "!sudo vi /home/app_user/.local/lib/python3.12/site-packages/matplotlib/mpl-data/matplotlibrc"
   ]
  }
 ],
 "metadata": {
  "kernelspec": {
   "display_name": "bedrock-manus",
   "language": "python",
   "name": "python3"
  },
  "language_info": {
   "codemirror_mode": {
    "name": "ipython",
    "version": 3
   },
   "file_extension": ".py",
   "mimetype": "text/x-python",
   "name": "python",
   "nbconvert_exporter": "python",
   "pygments_lexer": "ipython3",
   "version": "3.12.9"
  }
 },
 "nbformat": 4,
 "nbformat_minor": 5
}
